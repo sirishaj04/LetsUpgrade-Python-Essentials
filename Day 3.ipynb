{
 "cells": [
  {
   "cell_type": "code",
   "execution_count": 1,
   "metadata": {},
   "outputs": [
    {
     "name": "stdout",
     "output_type": "stream",
     "text": [
      "enter a value: 1000\n",
      "Safe to Land\n",
      "enter a value: 4500\n",
      "Bring down to 1000ft\n",
      "enter a value: 6500\n",
      "Turn around\n",
      "enter a value: q\n"
     ]
    }
   ],
   "source": [
    "flag=True\n",
    "while flag:\n",
    "    n=input(\"enter a value: \")\n",
    "    if n=='q' or n=='Q':\n",
    "        flag=False\n",
    "    else:\n",
    "        n1=int(n)\n",
    "        if n1>0 and n1<=1000:\n",
    "            print(\"Safe to Land\")\n",
    "        elif n1>1000 and n1<5000:\n",
    "            print(\"Bring down to 1000ft\")\n",
    "        else:\n",
    "            print(\"Turn around\")"
   ]
  },
  {
   "cell_type": "markdown",
   "metadata": {},
   "source": [
    "# question 2\n"
   ]
  },
  {
   "cell_type": "code",
   "execution_count": 14,
   "metadata": {},
   "outputs": [],
   "source": [
    "list=[]\n",
    "for i in range(1,200):\n",
    "    count=0\n",
    "    if i==1:\n",
    "        continue\n",
    "    elif i==2:\n",
    "        list.append(i)\n",
    "    else:\n",
    "        for j in range(2,i):\n",
    "            if i%j==0:\n",
    "                count=count+1\n",
    "        if count==0:\n",
    "            list.append(i)\n",
    "        \n"
   ]
  },
  {
   "cell_type": "code",
   "execution_count": 15,
   "metadata": {},
   "outputs": [
    {
     "name": "stdout",
     "output_type": "stream",
     "text": [
      "[2, 3, 5, 7, 11, 13, 17, 19, 23, 29, 31, 37, 41, 43, 47, 53, 59, 61, 67, 71, 73, 79, 83, 89, 97, 101, 103, 107, 109, 113, 127, 131, 137, 139, 149, 151, 157, 163, 167, 173, 179, 181, 191, 193, 197, 199]\n"
     ]
    }
   ],
   "source": [
    "print(list)"
   ]
  },
  {
   "cell_type": "code",
   "execution_count": null,
   "metadata": {},
   "outputs": [],
   "source": []
  }
 ],
 "metadata": {
  "kernelspec": {
   "display_name": "Python 3",
   "language": "python",
   "name": "python3"
  },
  "language_info": {
   "codemirror_mode": {
    "name": "ipython",
    "version": 3
   },
   "file_extension": ".py",
   "mimetype": "text/x-python",
   "name": "python",
   "nbconvert_exporter": "python",
   "pygments_lexer": "ipython3",
   "version": "3.8.3"
  }
 },
 "nbformat": 4,
 "nbformat_minor": 4
}
