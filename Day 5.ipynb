{
 "cells": [
  {
   "cell_type": "code",
   "execution_count": 1,
   "metadata": {},
   "outputs": [],
   "source": [
    "def prime(q,r):\n",
    "    l=[]\n",
    "    num=list(range(q,r+1))\n",
    "    for i in num:\n",
    "        if i==1:\n",
    "            continue\n",
    "        count=0\n",
    "        for j in range(2,i):\n",
    "            if i%j==0:\n",
    "                count=count+1\n",
    "        if count==0:\n",
    "            l.append(i)\n",
    "    return l"
   ]
  },
  {
   "cell_type": "code",
   "execution_count": 2,
   "metadata": {},
   "outputs": [
    {
     "name": "stdout",
     "output_type": "stream",
     "text": [
      "Enter lower limit :1\n",
      "Enter upper limit :2500\n",
      "[2, 3, 5, 7, 11, 13, 17, 19, 23, 29, 31, 37, 41, 43, 47, 53, 59, 61, 67, 71, 73, 79, 83, 89, 97, 101, 103, 107, 109, 113, 127, 131, 137, 139, 149, 151, 157, 163, 167, 173, 179, 181, 191, 193, 197, 199, 211, 223, 227, 229, 233, 239, 241, 251, 257, 263, 269, 271, 277, 281, 283, 293, 307, 311, 313, 317, 331, 337, 347, 349, 353, 359, 367, 373, 379, 383, 389, 397, 401, 409, 419, 421, 431, 433, 439, 443, 449, 457, 461, 463, 467, 479, 487, 491, 499, 503, 509, 521, 523, 541, 547, 557, 563, 569, 571, 577, 587, 593, 599, 601, 607, 613, 617, 619, 631, 641, 643, 647, 653, 659, 661, 673, 677, 683, 691, 701, 709, 719, 727, 733, 739, 743, 751, 757, 761, 769, 773, 787, 797, 809, 811, 821, 823, 827, 829, 839, 853, 857, 859, 863, 877, 881, 883, 887, 907, 911, 919, 929, 937, 941, 947, 953, 967, 971, 977, 983, 991, 997, 1009, 1013, 1019, 1021, 1031, 1033, 1039, 1049, 1051, 1061, 1063, 1069, 1087, 1091, 1093, 1097, 1103, 1109, 1117, 1123, 1129, 1151, 1153, 1163, 1171, 1181, 1187, 1193, 1201, 1213, 1217, 1223, 1229, 1231, 1237, 1249, 1259, 1277, 1279, 1283, 1289, 1291, 1297, 1301, 1303, 1307, 1319, 1321, 1327, 1361, 1367, 1373, 1381, 1399, 1409, 1423, 1427, 1429, 1433, 1439, 1447, 1451, 1453, 1459, 1471, 1481, 1483, 1487, 1489, 1493, 1499, 1511, 1523, 1531, 1543, 1549, 1553, 1559, 1567, 1571, 1579, 1583, 1597, 1601, 1607, 1609, 1613, 1619, 1621, 1627, 1637, 1657, 1663, 1667, 1669, 1693, 1697, 1699, 1709, 1721, 1723, 1733, 1741, 1747, 1753, 1759, 1777, 1783, 1787, 1789, 1801, 1811, 1823, 1831, 1847, 1861, 1867, 1871, 1873, 1877, 1879, 1889, 1901, 1907, 1913, 1931, 1933, 1949, 1951, 1973, 1979, 1987, 1993, 1997, 1999, 2003, 2011, 2017, 2027, 2029, 2039, 2053, 2063, 2069, 2081, 2083, 2087, 2089, 2099, 2111, 2113, 2129, 2131, 2137, 2141, 2143, 2153, 2161, 2179, 2203, 2207, 2213, 2221, 2237, 2239, 2243, 2251, 2267, 2269, 2273, 2281, 2287, 2293, 2297, 2309, 2311, 2333, 2339, 2341, 2347, 2351, 2357, 2371, 2377, 2381, 2383, 2389, 2393, 2399, 2411, 2417, 2423, 2437, 2441, 2447, 2459, 2467, 2473, 2477]\n"
     ]
    }
   ],
   "source": [
    "q=int(input(\"Enter lower limit :\"))\n",
    "r=int(input(\"Enter upper limit :\"))\n",
    "p=prime(q,r)\n",
    "print(p)"
   ]
  },
  {
   "cell_type": "markdown",
   "metadata": {},
   "source": [
    "# primes using filter"
   ]
  },
  {
   "cell_type": "code",
   "execution_count": 4,
   "metadata": {},
   "outputs": [],
   "source": [
    "def prime(num):\n",
    "    c=0\n",
    "    for i in range(1,num+1):\n",
    "        if num%i==0:\n",
    "            c=c+1\n",
    "    if(c==2):\n",
    "        return True\n",
    "    else:\n",
    "        return False\n",
    "    \n",
    "#efficient one\n",
    "'''def prime(num):\n",
    "    c=0\n",
    "    if num==1:\n",
    "        return False\n",
    "    else:\n",
    "        for i in range(2,num//2):\n",
    "            if num%i==0:\n",
    "                c=c+1\n",
    "        if(c==0):\n",
    "            return True\n",
    "        else:\n",
    "            return False\n",
    "'''"
   ]
  },
  {
   "cell_type": "code",
   "execution_count": 5,
   "metadata": {},
   "outputs": [
    {
     "name": "stdout",
     "output_type": "stream",
     "text": [
      "Enter lower bound : 1\n",
      "Enter Upper bound : 2500\n",
      "[2, 3, 5, 7, 11, 13, 17, 19, 23, 29, 31, 37, 41, 43, 47, 53, 59, 61, 67, 71, 73, 79, 83, 89, 97, 101, 103, 107, 109, 113, 127, 131, 137, 139, 149, 151, 157, 163, 167, 173, 179, 181, 191, 193, 197, 199, 211, 223, 227, 229, 233, 239, 241, 251, 257, 263, 269, 271, 277, 281, 283, 293, 307, 311, 313, 317, 331, 337, 347, 349, 353, 359, 367, 373, 379, 383, 389, 397, 401, 409, 419, 421, 431, 433, 439, 443, 449, 457, 461, 463, 467, 479, 487, 491, 499, 503, 509, 521, 523, 541, 547, 557, 563, 569, 571, 577, 587, 593, 599, 601, 607, 613, 617, 619, 631, 641, 643, 647, 653, 659, 661, 673, 677, 683, 691, 701, 709, 719, 727, 733, 739, 743, 751, 757, 761, 769, 773, 787, 797, 809, 811, 821, 823, 827, 829, 839, 853, 857, 859, 863, 877, 881, 883, 887, 907, 911, 919, 929, 937, 941, 947, 953, 967, 971, 977, 983, 991, 997, 1009, 1013, 1019, 1021, 1031, 1033, 1039, 1049, 1051, 1061, 1063, 1069, 1087, 1091, 1093, 1097, 1103, 1109, 1117, 1123, 1129, 1151, 1153, 1163, 1171, 1181, 1187, 1193, 1201, 1213, 1217, 1223, 1229, 1231, 1237, 1249, 1259, 1277, 1279, 1283, 1289, 1291, 1297, 1301, 1303, 1307, 1319, 1321, 1327, 1361, 1367, 1373, 1381, 1399, 1409, 1423, 1427, 1429, 1433, 1439, 1447, 1451, 1453, 1459, 1471, 1481, 1483, 1487, 1489, 1493, 1499, 1511, 1523, 1531, 1543, 1549, 1553, 1559, 1567, 1571, 1579, 1583, 1597, 1601, 1607, 1609, 1613, 1619, 1621, 1627, 1637, 1657, 1663, 1667, 1669, 1693, 1697, 1699, 1709, 1721, 1723, 1733, 1741, 1747, 1753, 1759, 1777, 1783, 1787, 1789, 1801, 1811, 1823, 1831, 1847, 1861, 1867, 1871, 1873, 1877, 1879, 1889, 1901, 1907, 1913, 1931, 1933, 1949, 1951, 1973, 1979, 1987, 1993, 1997, 1999, 2003, 2011, 2017, 2027, 2029, 2039, 2053, 2063, 2069, 2081, 2083, 2087, 2089, 2099, 2111, 2113, 2129, 2131, 2137, 2141, 2143, 2153, 2161, 2179, 2203, 2207, 2213, 2221, 2237, 2239, 2243, 2251, 2267, 2269, 2273, 2281, 2287, 2293, 2297, 2309, 2311, 2333, 2339, 2341, 2347, 2351, 2357, 2371, 2377, 2381, 2383, 2389, 2393, 2399, 2411, 2417, 2423, 2437, 2441, 2447, 2459, 2467, 2473, 2477]\n"
     ]
    }
   ],
   "source": [
    "p=int(input(\"Enter lower bound : \"))\n",
    "q=int(input(\"Enter Upper bound : \"))\n",
    "lst=list(range(p,q+1))\n",
    "p=filter(prime,lst)\n",
    "print(list(p))"
   ]
  },
  {
   "cell_type": "code",
   "execution_count": 6,
   "metadata": {},
   "outputs": [
    {
     "name": "stdout",
     "output_type": "stream",
     "text": [
      "hello every one.i am sirisha.\n",
      "Hello Every One.I Am Sirisha.\n"
     ]
    }
   ],
   "source": [
    "msg=list(input().split())\n",
    "p=[]\n",
    "for i in msg:\n",
    "    p1=lambda i : i.title()\n",
    "    p.append(p1(i))\n",
    "print(' '.join(map(str,p)))\n"
   ]
  },
  {
   "cell_type": "code",
   "execution_count": 2,
   "metadata": {},
   "outputs": [
    {
     "name": "stdout",
     "output_type": "stream",
     "text": [
      "enter list: 1 1 5\n",
      "enter list: 1 5 6 4 1 2 3 5\n",
      "IT's a Match\n"
     ]
    }
   ],
   "source": [
    "lst1=list(map(int,(input(\"enter list: \").split(\" \"))))\n",
    "lst2=list(map(int,(input(\"enter list: \").split(\" \"))))\n",
    "i=0\n",
    "w=[]\n",
    "p=0\n",
    "def listcheck(lst2):\n",
    "\n",
    "    if len(lst2)==0:\n",
    "\n",
    "        return 0\n",
    "    else:\n",
    "\n",
    "        return 1\n",
    "\n",
    "length=len(lst1)\n",
    "\n",
    "while i<length:\n",
    "    if listcheck(lst2):\n",
    "        for j in lst2:\n",
    "            if lst1[i]==j:\n",
    "                index=lst2.index(j)\n",
    "                p=lst2.pop(index)\n",
    "                #print(lst2)\n",
    "                w.append(p)\n",
    "                #print(w)\n",
    "                i=i+1\n",
    "                break\n",
    "            else:\n",
    "                index=lst2.index(j)\n",
    "                del lst2[index]\n",
    "                #print(lst2)\n",
    "                break\n",
    "    else:\n",
    "        break\n",
    "\n",
    "\n",
    "#print(w)\n",
    "#print(lst2)\n",
    "if w==lst1:\n",
    "    print(\"IT's a Match\")\n",
    "else:\n",
    "    print(\"It's Gone\")\n",
    "\n",
    "\n"
   ]
  },
  {
   "cell_type": "code",
   "execution_count": 3,
   "metadata": {},
   "outputs": [
    {
     "name": "stdout",
     "output_type": "stream",
     "text": [
      "enter list: 1 1 5\n",
      "enter list: 1 5 6 5 1 2 3 6\n",
      "It's Gone\n"
     ]
    }
   ],
   "source": [
    "lst1=list(map(int,(input(\"enter list: \").split(\" \"))))\n",
    "lst2=list(map(int,(input(\"enter list: \").split(\" \"))))\n",
    "i=0\n",
    "w=[]\n",
    "p=0\n",
    "def listcheck(lst2):\n",
    "\n",
    "    if len(lst2)==0:\n",
    "\n",
    "        return 0\n",
    "    else:\n",
    "\n",
    "        return 1\n",
    "\n",
    "length=len(lst1)\n",
    "\n",
    "while i<length:\n",
    "    if listcheck(lst2):\n",
    "        for j in lst2:\n",
    "            if lst1[i]==j:\n",
    "                index=lst2.index(j)\n",
    "                p=lst2.pop(index)\n",
    "                #print(lst2)\n",
    "                w.append(p)\n",
    "                #print(w)\n",
    "                i=i+1\n",
    "                break\n",
    "            else:\n",
    "                index=lst2.index(j)\n",
    "                del lst2[index]\n",
    "                #print(lst2)\n",
    "                break\n",
    "    else:\n",
    "        break\n",
    "\n",
    "\n",
    "#print(w)\n",
    "#print(lst2)\n",
    "if w==lst1:\n",
    "    print(\"IT's a Match\")\n",
    "else:\n",
    "    print(\"It's Gone\")\n",
    "\n",
    "\n"
   ]
  },
  {
   "cell_type": "code",
   "execution_count": null,
   "metadata": {},
   "outputs": [],
   "source": []
  }
 ],
 "metadata": {
  "kernelspec": {
   "display_name": "Python 3",
   "language": "python",
   "name": "python3"
  },
  "language_info": {
   "codemirror_mode": {
    "name": "ipython",
    "version": 3
   },
   "file_extension": ".py",
   "mimetype": "text/x-python",
   "name": "python",
   "nbconvert_exporter": "python",
   "pygments_lexer": "ipython3",
   "version": "3.8.3"
  }
 },
 "nbformat": 4,
 "nbformat_minor": 4
}
