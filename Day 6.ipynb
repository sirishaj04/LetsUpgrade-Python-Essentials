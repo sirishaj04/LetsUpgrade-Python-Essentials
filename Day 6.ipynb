{
 "cells": [
  {
   "cell_type": "code",
   "execution_count": 1,
   "metadata": {},
   "outputs": [
    {
     "name": "stdout",
     "output_type": "stream",
     "text": [
      "Dear siri Rs.10000 is Deposited successfully\n",
      "Available Balance is : Rs.20000\n",
      "You withdrawed Rs.500\n",
      "Available balance is : Rs.19500\n",
      "Dear Hamsi Rs.100 is Deposited successfully\n",
      "Available Balance is : Rs.10100\n",
      "Insufficient balance\n"
     ]
    }
   ],
   "source": [
    "class BankAccount():\n",
    "    balance=10000\n",
    "    withdraw=0\n",
    "    deposit=0\n",
    "    def __init__(self,ownername,deposit,withdraw):\n",
    "        self.ownername=ownername\n",
    "        self.deposit=deposit\n",
    "        self.withdraw=withdraw\n",
    "\n",
    "    def depositamt(self):\n",
    "        self.balance=self.balance+self.deposit\n",
    "        print(\"Dear \"+str(self.ownername)+\" Rs.\"+str(self.deposit)+\" is Deposited successfully\")\n",
    "        print(\"Available Balance is : Rs.\"+str(self.balance))\n",
    "    def withdrawl(self):\n",
    "        if (self.balance-self.withdraw)>0:\n",
    "            self.balance=self.balance-self.withdraw\n",
    "            print(\"You withdrawed Rs.\"+str(self.withdraw))\n",
    "            print(\"Available balance is : Rs.\"+str(self.balance))\n",
    "        else:\n",
    "            print(\"Insufficient balance\")\n",
    "ba=BankAccount(\"siri\",10000,500)\n",
    "bb=BankAccount(\"Hamsi\",100,50000)\n",
    "ba.depositamt()\n",
    "ba.withdrawl()\n",
    "bb.depositamt()\n",
    "bb.withdrawl()\n",
    "\n"
   ]
  },
  {
   "cell_type": "code",
   "execution_count": 2,
   "metadata": {},
   "outputs": [
    {
     "name": "stdout",
     "output_type": "stream",
     "text": [
      "Dear siri Rs.10000 is Deposited successfully\n",
      "Available Balance is : Rs.20000\n",
      "You withdrawed Rs.2000\n",
      "Available balance is : Rs.18000\n",
      "Dear siri Rs.3000 is Deposited successfully\n",
      "Available Balance is : Rs.21000\n",
      "Insufficient balance\n"
     ]
    }
   ],
   "source": [
    "class BankAccount():\n",
    "    balance=10000\n",
    "    def __init__(self,ownername):\n",
    "        self.ownername=ownername\n",
    "\n",
    "    def depositamt(self,amt):\n",
    "        self.balance=self.balance+amt\n",
    "        print(\"Dear \"+str(self.ownername)+\" Rs.\"+str(amt)+\" is Deposited successfully\")\n",
    "        print(\"Available Balance is : Rs.\"+str(self.balance))\n",
    "    def withdrawl(self,num):\n",
    "        if (self.balance-num)>0:\n",
    "            self.balance=self.balance-num\n",
    "            print(\"You withdrawed Rs.\"+str(num))\n",
    "            print(\"Available balance is : Rs.\"+str(self.balance))\n",
    "        else:\n",
    "            print(\"Insufficient balance\")\n",
    "ba=BankAccount(\"siri\")\n",
    "ba.depositamt(10000)\n",
    "ba.withdrawl(2000)\n",
    "ba.depositamt(3000)\n",
    "ba.withdrawl(50000)"
   ]
  },
  {
   "cell_type": "code",
   "execution_count": 3,
   "metadata": {},
   "outputs": [
    {
     "name": "stdout",
     "output_type": "stream",
     "text": [
      "volume of cone is :47.1238898038469\n",
      "Surface area of cone is :83.22976079115259\n"
     ]
    }
   ],
   "source": [
    "\n",
    "from math import sqrt\n",
    "from math import pi as pi\n",
    "class cone():\n",
    "    def __init__(self,radius,height):\n",
    "        self.radius=radius\n",
    "        self.height=height\n",
    "    def volume(self):\n",
    "        v=(pi*(self.radius**2)*self.height)/3\n",
    "        print(\"volume of cone is :\"+str(v))\n",
    "\n",
    "    def surfacearea(self):\n",
    "        s=(pi*(self.radius**2))+(pi*self.radius*sqrt((self.radius**2)+(self.height**2)))\n",
    "        print(\"Surface area of cone is :\" + str(s))\n",
    "c=cone(3,5)\n",
    "c.volume()\n",
    "c.surfacearea()"
   ]
  },
  {
   "cell_type": "code",
   "execution_count": null,
   "metadata": {},
   "outputs": [],
   "source": []
  }
 ],
 "metadata": {
  "kernelspec": {
   "display_name": "Python 3",
   "language": "python",
   "name": "python3"
  },
  "language_info": {
   "codemirror_mode": {
    "name": "ipython",
    "version": 3
   },
   "file_extension": ".py",
   "mimetype": "text/x-python",
   "name": "python",
   "nbconvert_exporter": "python",
   "pygments_lexer": "ipython3",
   "version": "3.8.3"
  }
 },
 "nbformat": 4,
 "nbformat_minor": 4
}
