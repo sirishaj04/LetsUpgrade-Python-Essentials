{
 "cells": [
  {
   "cell_type": "code",
   "execution_count": 1,
   "metadata": {},
   "outputs": [
    {
     "name": "stdout",
     "output_type": "stream",
     "text": [
      "Requirement already satisfied: pylint in c:\\users\\sirisha\\anaconda3\\lib\\site-packages (2.5.3)\n",
      "Requirement already satisfied: isort<5,>=4.2.5 in c:\\users\\sirisha\\anaconda3\\lib\\site-packages (from pylint) (4.3.21)\n",
      "Requirement already satisfied: toml>=0.7.1 in c:\\users\\sirisha\\anaconda3\\lib\\site-packages (from pylint) (0.10.1)\n",
      "Requirement already satisfied: colorama; sys_platform == \"win32\" in c:\\users\\sirisha\\anaconda3\\lib\\site-packages (from pylint) (0.4.3)\n",
      "Requirement already satisfied: astroid<=2.5,>=2.4.0 in c:\\users\\sirisha\\anaconda3\\lib\\site-packages (from pylint) (2.4.2)\n",
      "Requirement already satisfied: mccabe<0.7,>=0.6 in c:\\users\\sirisha\\anaconda3\\lib\\site-packages (from pylint) (0.6.1)\n",
      "Requirement already satisfied: lazy-object-proxy==1.4.* in c:\\users\\sirisha\\anaconda3\\lib\\site-packages (from astroid<=2.5,>=2.4.0->pylint) (1.4.3)\n",
      "Requirement already satisfied: six~=1.12 in c:\\users\\sirisha\\anaconda3\\lib\\site-packages (from astroid<=2.5,>=2.4.0->pylint) (1.15.0)\n",
      "Requirement already satisfied: wrapt~=1.11 in c:\\users\\sirisha\\anaconda3\\lib\\site-packages (from astroid<=2.5,>=2.4.0->pylint) (1.11.2)\n"
     ]
    }
   ],
   "source": [
    "! pip install pylint"
   ]
  },
  {
   "cell_type": "code",
   "execution_count": 11,
   "metadata": {},
   "outputs": [
    {
     "name": "stdout",
     "output_type": "stream",
     "text": [
      "Overwriting prime.py\n"
     ]
    }
   ],
   "source": [
    "%%writefile prime.py\n",
    "'''checks prime or not\n",
    "'''\n",
    "def isprime(num):\n",
    "    ''' this is a function for checking\n",
    "    '''\n",
    "    count = 1\n",
    "    if num < 1:\n",
    "        print(\"Please enter number grater than zero\")\n",
    "    elif num == 1:\n",
    "        print(\"1 is neither prime nor composite number\")\n",
    "    else:\n",
    "        for j in range(2, num // 2):\n",
    "            if num%j == 0:\n",
    "                count = count + 1\n",
    "            else:\n",
    "                continue\n",
    "        if count == 1:\n",
    "            print(\"It is a prime number\")\n",
    "        else:\n",
    "            print(\"It is not a prime number\")\n",
    "p = int(input(\"Enter your number :\"))\n",
    "isprime(p)"
   ]
  },
  {
   "cell_type": "code",
   "execution_count": 12,
   "metadata": {},
   "outputs": [
    {
     "name": "stdout",
     "output_type": "stream",
     "text": [
      "\n",
      "-------------------------------------------------------------------\n",
      "\n",
      "Your code has been rated at 10.00/10 (previous run: 9.33/10, +0.67)\n",
      "\n",
      "\n",
      "\n"
     ]
    }
   ],
   "source": [
    "! pylint prime.py\n"
   ]
  },
  {
   "cell_type": "markdown",
   "metadata": {},
   "source": [
    "# unit testing\n"
   ]
  },
  {
   "cell_type": "code",
   "execution_count": 1,
   "metadata": {},
   "outputs": [
    {
     "name": "stdout",
     "output_type": "stream",
     "text": [
      "Overwriting prime2.py\n"
     ]
    }
   ],
   "source": [
    "%%writefile prime2.py\n",
    "def isprime(num):\n",
    "    c = 0\n",
    "    if num <= 1:\n",
    "        return False\n",
    "    else:\n",
    "        for j in range(2, num//2):\n",
    "            if num % j == 0:\n",
    "                print(\"Not prime\")\n",
    "                return False\n",
    "\n",
    "        else:\n",
    "            print(\"prime\")\n",
    "            return True"
   ]
  },
  {
   "cell_type": "code",
   "execution_count": 16,
   "metadata": {},
   "outputs": [
    {
     "name": "stdout",
     "output_type": "stream",
     "text": [
      "Overwriting mytest.py\n"
     ]
    }
   ],
   "source": [
    "%%writefile mytest.py\n",
    "import unittest\n",
    "import prime1\n",
    "class MyTestCase(unittest.TestCase):\n",
    "    def test_something(self):\n",
    "        print(\"If all the list elements are prime no error is raised\")\n",
    "        p=[3,5,7,11,22]\n",
    "        for i in p:\n",
    "            result=prime1.isprime(i)\n",
    "            #print(type(result))\n",
    "            self.assertTrue(result)\n",
    "            \n",
    "if __name__ == '__main__':\n",
    "    unittest.main()\n"
   ]
  },
  {
   "cell_type": "code",
   "execution_count": 17,
   "metadata": {},
   "outputs": [
    {
     "name": "stdout",
     "output_type": "stream",
     "text": [
      "If all the list elements are prime no error is raised\n"
     ]
    },
    {
     "name": "stderr",
     "output_type": "stream",
     "text": [
      "F\n",
      "======================================================================\n",
      "FAIL: test_something (__main__.MyTestCase)\n",
      "----------------------------------------------------------------------\n",
      "Traceback (most recent call last):\n",
      "  File \"mytest.py\", line 10, in test_something\n",
      "    self.assertTrue(result)\n",
      "AssertionError: False is not true\n",
      "\n",
      "----------------------------------------------------------------------\n",
      "Ran 1 test in 0.001s\n",
      "\n",
      "FAILED (failures=1)\n"
     ]
    }
   ],
   "source": [
    "! python mytest.py"
   ]
  },
  {
   "cell_type": "code",
   "execution_count": 18,
   "metadata": {},
   "outputs": [
    {
     "name": "stdout",
     "output_type": "stream",
     "text": [
      "Overwriting mytest.py\n"
     ]
    }
   ],
   "source": [
    "%%writefile mytest.py\n",
    "import unittest\n",
    "import prime1\n",
    "class MyTestCase(unittest.TestCase):\n",
    "    def test_something(self):\n",
    "        print(\"If all the list elements are prime no error is raised\")\n",
    "        p=[3,5,7]\n",
    "        for i in p:\n",
    "            result=prime1.isprime(i)\n",
    "            #print(type(result))\n",
    "            self.assertTrue(result)\n",
    "            \n",
    "if __name__ == '__main__':\n",
    "    unittest.main()\n"
   ]
  },
  {
   "cell_type": "code",
   "execution_count": 19,
   "metadata": {},
   "outputs": [
    {
     "name": "stdout",
     "output_type": "stream",
     "text": [
      "If all the list elements are prime no error is raised"
     ]
    },
    {
     "name": "stderr",
     "output_type": "stream",
     "text": [
      ".\n",
      "----------------------------------------------------------------------\n",
      "Ran 1 test in 0.000s\n",
      "\n",
      "OK\n"
     ]
    },
    {
     "name": "stdout",
     "output_type": "stream",
     "text": [
      "\n"
     ]
    }
   ],
   "source": [
    "! python mytest.py"
   ]
  },
  {
   "cell_type": "markdown",
   "metadata": {},
   "source": [
    "# generator"
   ]
  },
  {
   "cell_type": "code",
   "execution_count": 1,
   "metadata": {},
   "outputs": [],
   "source": [
    "def fun(lst):\n",
    "    for i in lst:\n",
    "        sum=0\n",
    "        num=i\n",
    "        while i>0:\n",
    "            rem=i%10\n",
    "            sum=sum+(rem**3)\n",
    "            i=i//10\n",
    "        if sum==num:\n",
    "            yield num\n",
    "        else:\n",
    "            yield 0\n",
    "    \n",
    "        "
   ]
  },
  {
   "cell_type": "code",
   "execution_count": 4,
   "metadata": {},
   "outputs": [
    {
     "name": "stdout",
     "output_type": "stream",
     "text": [
      "[1, 153, 370, 371, 407]\n"
     ]
    }
   ],
   "source": [
    "p=list(range(1,1000))\n",
    "a=list(fun(p))\n",
    "a1=set(a)\n",
    "a1.remove(0)\n",
    "b=list(a1)\n",
    "b.sort()\n",
    "mylist=b\n",
    "print(mylist)\n"
   ]
  },
  {
   "cell_type": "code",
   "execution_count": null,
   "metadata": {},
   "outputs": [],
   "source": []
  }
 ],
 "metadata": {
  "kernelspec": {
   "display_name": "Python 3",
   "language": "python",
   "name": "python3"
  },
  "language_info": {
   "codemirror_mode": {
    "name": "ipython",
    "version": 3
   },
   "file_extension": ".py",
   "mimetype": "text/x-python",
   "name": "python",
   "nbconvert_exporter": "python",
   "pygments_lexer": "ipython3",
   "version": "3.8.3"
  }
 },
 "nbformat": 4,
 "nbformat_minor": 4
}
